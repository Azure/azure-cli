{
    "metadata": {
        "language_info": {
            "name": "python"
        }
    },
    "nbformat": 4,
    "nbformat_minor": 2,
    "cells": [
        {
            "cell_type": "code",
            "execution_count": null,
            "source": [
                "print(\"hello from portal\")"
            ],
            "outputs": [],
            "metadata": {}
        }
    ]
}